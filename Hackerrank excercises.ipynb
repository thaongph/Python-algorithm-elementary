{
 "cells": [
  {
   "cell_type": "markdown",
   "id": "477b3665",
   "metadata": {},
   "source": [
    "### Medium - The Minion Game"
   ]
  },
  {
   "cell_type": "code",
   "execution_count": null,
   "id": "8e9862f8",
   "metadata": {},
   "outputs": [],
   "source": [
    "def minion_game(string):\n",
    "    string = str(input()).upper()\n",
    "    lst1 = string.split()"
   ]
  },
  {
   "cell_type": "code",
   "execution_count": 8,
   "id": "97f2c5d4",
   "metadata": {},
   "outputs": [
    {
     "name": "stdout",
     "output_type": "stream",
     "text": [
      "thao\n",
      "THAO\n"
     ]
    },
    {
     "ename": "ValueError",
     "evalue": "empty separator",
     "output_type": "error",
     "traceback": [
      "\u001b[0;31m---------------------------------------------------------------------------\u001b[0m",
      "\u001b[0;31mValueError\u001b[0m                                Traceback (most recent call last)",
      "Cell \u001b[0;32mIn[8], line 3\u001b[0m\n\u001b[1;32m      1\u001b[0m string \u001b[38;5;241m=\u001b[39m \u001b[38;5;28minput\u001b[39m()\u001b[38;5;241m.\u001b[39mupper()\n\u001b[1;32m      2\u001b[0m \u001b[38;5;28mprint\u001b[39m(string)\n\u001b[0;32m----> 3\u001b[0m lst1\u001b[38;5;241m=\u001b[39m \u001b[43mstring\u001b[49m\u001b[38;5;241;43m.\u001b[39;49m\u001b[43msplit\u001b[49m\u001b[43m(\u001b[49m\u001b[38;5;124;43m'\u001b[39;49m\u001b[38;5;124;43m'\u001b[39;49m\u001b[43m)\u001b[49m\n\u001b[1;32m      4\u001b[0m lst1\n",
      "\u001b[0;31mValueError\u001b[0m: empty separator"
     ]
    }
   ],
   "source": [
    "string = input().upper()\n",
    "print(string)\n",
    "lst1= string.split()\n",
    "lst1"
   ]
  },
  {
   "cell_type": "markdown",
   "id": "87cda304",
   "metadata": {},
   "source": [
    "### Medium - merge_the_tools"
   ]
  },
  {
   "cell_type": "code",
   "execution_count": 49,
   "id": "ef4ca1f5",
   "metadata": {},
   "outputs": [
    {
     "name": "stdout",
     "output_type": "stream",
     "text": [
      "ABCAAD"
     ]
    }
   ],
   "source": [
    "def merge_the_tools(string, k):\n",
    "    lst1 = list(string)\n",
    "    while len(lst1) >= k: \n",
    "        lst2 = lst1[0:k]\n",
    "        d = {}\n",
    "        for character in lst2:\n",
    "            if not character in d:\n",
    "                d[character] = 1\n",
    "                print(character, end ='')\n",
    "        del lst1[0:k]\n",
    "\n",
    "if __name__ == '__main__':\n",
    "    merge_the_tools('AABCAAADA', 3)"
   ]
  },
  {
   "cell_type": "code",
   "execution_count": 53,
   "id": "307a3a36",
   "metadata": {},
   "outputs": [
    {
     "name": "stdout",
     "output_type": "stream",
     "text": [
      "12345"
     ]
    }
   ],
   "source": [
    "i = 1\n",
    "while i < 6:\n",
    "  print(i, end='')\n",
    "  i += 1"
   ]
  },
  {
   "cell_type": "code",
   "execution_count": 19,
   "id": "89ff04bf",
   "metadata": {},
   "outputs": [
    {
     "name": "stdout",
     "output_type": "stream",
     "text": [
      "['apple', 'banana']\n"
     ]
    },
    {
     "data": {
      "text/plain": [
       "['banana']"
      ]
     },
     "execution_count": 19,
     "metadata": {},
     "output_type": "execute_result"
    }
   ],
   "source": [
    "mylist = [\"apple\", \"banana\", \"cherry\"]\n",
    "k = 3\n",
    "lst = mylist[0:k-1]\n",
    "print(lst)\n",
    "del lst[0:1]\n",
    "lst"
   ]
  },
  {
   "cell_type": "code",
   "execution_count": null,
   "id": "27dbdbe6",
   "metadata": {},
   "outputs": [],
   "source": [
    "string = str(input('Enter your string:')).upper()\n",
    "    k = int(input('Enter the integer that is factor of numbers of characters in your string:'))"
   ]
  }
 ],
 "metadata": {
  "kernelspec": {
   "display_name": "Python 3 (ipykernel)",
   "language": "python",
   "name": "python3"
  },
  "language_info": {
   "codemirror_mode": {
    "name": "ipython",
    "version": 3
   },
   "file_extension": ".py",
   "mimetype": "text/x-python",
   "name": "python",
   "nbconvert_exporter": "python",
   "pygments_lexer": "ipython3",
   "version": "3.10.9"
  }
 },
 "nbformat": 4,
 "nbformat_minor": 5
}
