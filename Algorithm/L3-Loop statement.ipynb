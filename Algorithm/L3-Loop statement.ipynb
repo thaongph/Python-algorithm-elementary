{
 "cells": [
  {
   "cell_type": "markdown",
   "metadata": {},
   "source": [
    "### Lesson 3: Loop statement"
   ]
  },
  {
   "cell_type": "markdown",
   "metadata": {},
   "source": [
    "Codeforces - A. Vanya and Cubes\n",
    "https://codeforces.com/contest/492/problem/A"
   ]
  },
  {
   "cell_type": "code",
   "execution_count": 70,
   "metadata": {},
   "outputs": [
    {
     "name": "stdout",
     "output_type": "stream",
     "text": [
      "5\n"
     ]
    }
   ],
   "source": [
    "cubes = int(input())\n",
    "x = 0\n",
    "used = 0\n",
    "level = 1\n",
    "while level > 0:\n",
    "    x += level\n",
    "    used += x\n",
    "    if used == cubes:\n",
    "        break\n",
    "    elif used > cubes:\n",
    "        level = level - 1\n",
    "        break\n",
    "    level +=1\n",
    "\n",
    "print(level)"
   ]
  },
  {
   "cell_type": "markdown",
   "metadata": {},
   "source": [
    "Codeforces - A. Tram\n",
    "https://codeforces.com/problemset/problem/116/A"
   ]
  },
  {
   "cell_type": "code",
   "execution_count": 74,
   "metadata": {},
   "outputs": [
    {
     "name": "stdout",
     "output_type": "stream",
     "text": [
      "8\n"
     ]
    }
   ],
   "source": [
    "stops = int(input())\n",
    "capacity = []\n",
    "c = 0\n",
    "for i in range(1, stops+1):\n",
    "    a, b = map(int, input().split())\n",
    "    c = b-a+c\n",
    "    capacity.append(c)\n",
    "print(max(capacity))    "
   ]
  }
 ],
 "metadata": {
  "kernelspec": {
   "display_name": ".venv",
   "language": "python",
   "name": "python3"
  },
  "language_info": {
   "codemirror_mode": {
    "name": "ipython",
    "version": 3
   },
   "file_extension": ".py",
   "mimetype": "text/x-python",
   "name": "python",
   "nbconvert_exporter": "python",
   "pygments_lexer": "ipython3",
   "version": "3.12.3"
  }
 },
 "nbformat": 4,
 "nbformat_minor": 2
}
