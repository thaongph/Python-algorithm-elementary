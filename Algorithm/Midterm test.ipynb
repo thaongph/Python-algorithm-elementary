{
 "cells": [
  {
   "cell_type": "markdown",
   "metadata": {},
   "source": [
    "### Lesson 8: Midterm"
   ]
  },
  {
   "cell_type": "code",
   "execution_count": 64,
   "metadata": {},
   "outputs": [
    {
     "name": "stdout",
     "output_type": "stream",
     "text": [
      "161100\n"
     ]
    }
   ],
   "source": [
    "km = int(input())\n",
    "if km == 1:\n",
    "    fare = 15000\n",
    "elif km in range(2, 6):\n",
    "    fare = 15000 + 13500*(km-1)\n",
    "elif km in range(6, 12):\n",
    "    fare = 15000 + 13500*4 + 11000*(km-5)\n",
    "else:\n",
    "    fare = (15000 + 13500*4 + 11000*(km-5))*0.9\n",
    "print(int(fare))"
   ]
  },
  {
   "cell_type": "code",
   "execution_count": 72,
   "metadata": {},
   "outputs": [
    {
     "name": "stdout",
     "output_type": "stream",
     "text": [
      "    *\n",
      "   ***\n",
      "  *****\n",
      " *******\n",
      "*********\n"
     ]
    }
   ],
   "source": [
    "h = int(input())\n",
    "leaves = 1\n",
    "for i in range(1, h+1):\n",
    "    print(f\"{' '*(h-i)}{'*'*(leaves)}\")\n",
    "    leaves += 2"
   ]
  },
  {
   "cell_type": "code",
   "execution_count": 95,
   "metadata": {},
   "outputs": [
    {
     "name": "stdout",
     "output_type": "stream",
     "text": [
      "INVALID\n"
     ]
    }
   ],
   "source": [
    "# verify local\n",
    "def Local(text):\n",
    "    lst_text = list(text)\n",
    "    for i in lst_text:\n",
    "        if not ord(i) in range(65, 91) and not ord(i) in range(97, 123) and not ord(i) == 46 and not ord(i) == 95:\n",
    "            flag = False\n",
    "            break\n",
    "        else:\n",
    "            flag = True\n",
    "    return flag   \n",
    " \n",
    "# verify domain\n",
    "def Domain(text):\n",
    "    lst_text = list(text)\n",
    "    for i in lst_text:\n",
    "        if not ord(i) in range(65, 91) and not ord(i) in range(97, 123) and not ord(i) == 46:\n",
    "            flag = False\n",
    "            break\n",
    "        else:\n",
    "            flag = True\n",
    "    return flag \n",
    "\n",
    "email = input()\n",
    "if not '@' in email:\n",
    "    print('INVALID')\n",
    "else:\n",
    "    m_lst = email.split('@')\n",
    "    if len(m_lst) > 2 or  '' in m_lst or Local(m_lst[0]) ==False or Domain(m_lst[1]) ==False or '..' in m_lst[1] or not '.' in m_lst[1]:\n",
    "        print('INVALID')\n",
    "    else:\n",
    "        print('VALID')"
   ]
  },
  {
   "cell_type": "code",
   "execution_count": 97,
   "metadata": {},
   "outputs": [
    {
     "ename": "ValueError",
     "evalue": "invalid literal for int() with base 10: '_'",
     "output_type": "error",
     "traceback": [
      "\u001b[0;31m---------------------------------------------------------------------------\u001b[0m",
      "\u001b[0;31mValueError\u001b[0m                                Traceback (most recent call last)",
      "Cell \u001b[0;32mIn[97], line 3\u001b[0m\n\u001b[1;32m      1\u001b[0m mat \u001b[38;5;241m=\u001b[39m []\n\u001b[1;32m      2\u001b[0m \u001b[38;5;28;01mfor\u001b[39;00m i \u001b[38;5;129;01min\u001b[39;00m \u001b[38;5;28mrange\u001b[39m(\u001b[38;5;241m1\u001b[39m, \u001b[38;5;241m10\u001b[39m):\n\u001b[0;32m----> 3\u001b[0m     row \u001b[38;5;241m=\u001b[39m [\u001b[38;5;28;43mint\u001b[39;49m\u001b[43m(\u001b[49m\u001b[43mx\u001b[49m\u001b[43m)\u001b[49m \u001b[38;5;28;01mfor\u001b[39;00m x \u001b[38;5;129;01min\u001b[39;00m \u001b[38;5;28minput\u001b[39m()\u001b[38;5;241m.\u001b[39msplit()]\n\u001b[1;32m      4\u001b[0m     mat\u001b[38;5;241m.\u001b[39mappend(row)\n\u001b[1;32m      6\u001b[0m \u001b[38;5;28;01mfor\u001b[39;00m i \u001b[38;5;129;01min\u001b[39;00m \u001b[38;5;28mrange\u001b[39m(\u001b[38;5;241m9\u001b[39m):\n",
      "\u001b[0;31mValueError\u001b[0m: invalid literal for int() with base 10: '_'"
     ]
    }
   ],
   "source": [
    "mat = []\n",
    "flag = True\n",
    "for i in range(1, 10):\n",
    "    row = [int(x) for x in input().split()]\n",
    "    mat.append(row)\n",
    "\n",
    "for i in range(9):\n",
    "    set1 = set(mat[i])\n",
    "    if len(set1) < 9:\n",
    "        flag = False\n",
    "        break\n",
    "\n",
    "for j in range(9):\n",
    "    set2 = set()\n",
    "    for i in range(9):\n",
    "        set2.add(mat[i][j])\n",
    "    if len(set2) < 9:\n",
    "        flag = False\n",
    "        break\n",
    "\n",
    "for i in range(1,4):\n",
    "    a = i*3\n",
    "    for j in range(1,4):\n",
    "        b = j*3\n",
    "        set3 = set()\n",
    "        for x in range((i-1)*3,a):\n",
    "            for y in range((j-1)*3,b):\n",
    "                set3.add(mat[x][y])\n",
    "        if len(set3) < 9:\n",
    "            flag = False\n",
    "            break\n",
    "\n",
    "if flag == False:\n",
    "    print('NO')\n",
    "else:\n",
    "    print('YES')"
   ]
  },
  {
   "cell_type": "code",
   "execution_count": 106,
   "metadata": {},
   "outputs": [
    {
     "name": "stdout",
     "output_type": "stream",
     "text": [
      "{0, 1, 2, 3, 4, 5, 6, 7, 8}\n"
     ]
    }
   ],
   "source": [
    "sett = set()\n",
    "\n",
    "for i in range(9):\n",
    "    sett.add(i)\n",
    "print(sett)"
   ]
  }
 ],
 "metadata": {
  "kernelspec": {
   "display_name": ".venv",
   "language": "python",
   "name": "python3"
  },
  "language_info": {
   "codemirror_mode": {
    "name": "ipython",
    "version": 3
   },
   "file_extension": ".py",
   "mimetype": "text/x-python",
   "name": "python",
   "nbconvert_exporter": "python",
   "pygments_lexer": "ipython3",
   "version": "3.12.3"
  }
 },
 "nbformat": 4,
 "nbformat_minor": 2
}
