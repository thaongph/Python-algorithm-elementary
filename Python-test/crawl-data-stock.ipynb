{
 "cells": [
  {
   "cell_type": "markdown",
   "id": "f1fad28b",
   "metadata": {},
   "source": [
    "### Install library"
   ]
  },
  {
   "cell_type": "code",
   "execution_count": 7,
   "id": "ff915927",
   "metadata": {
    "collapsed": true
   },
   "outputs": [
    {
     "name": "stdout",
     "output_type": "stream",
     "text": [
      "Requirement already satisfied: matplotlib in /Users/thaonp_laptop/anaconda3/lib/python3.10/site-packages (3.7.0)\r\n",
      "Requirement already satisfied: numpy>=1.20 in /Users/thaonp_laptop/anaconda3/lib/python3.10/site-packages (from matplotlib) (1.23.5)\r\n",
      "Requirement already satisfied: kiwisolver>=1.0.1 in /Users/thaonp_laptop/anaconda3/lib/python3.10/site-packages (from matplotlib) (1.4.4)\r\n",
      "Requirement already satisfied: python-dateutil>=2.7 in /Users/thaonp_laptop/anaconda3/lib/python3.10/site-packages (from matplotlib) (2.8.2)\r\n",
      "Requirement already satisfied: contourpy>=1.0.1 in /Users/thaonp_laptop/anaconda3/lib/python3.10/site-packages (from matplotlib) (1.0.5)\r\n",
      "Requirement already satisfied: cycler>=0.10 in /Users/thaonp_laptop/anaconda3/lib/python3.10/site-packages (from matplotlib) (0.11.0)\r\n",
      "Requirement already satisfied: packaging>=20.0 in /Users/thaonp_laptop/anaconda3/lib/python3.10/site-packages (from matplotlib) (23.2)\r\n",
      "Requirement already satisfied: pyparsing>=2.3.1 in /Users/thaonp_laptop/anaconda3/lib/python3.10/site-packages (from matplotlib) (3.0.9)\r\n",
      "Requirement already satisfied: pillow>=6.2.0 in /Users/thaonp_laptop/anaconda3/lib/python3.10/site-packages (from matplotlib) (9.4.0)\r\n",
      "Requirement already satisfied: fonttools>=4.22.0 in /Users/thaonp_laptop/anaconda3/lib/python3.10/site-packages (from matplotlib) (4.25.0)\r\n",
      "Requirement already satisfied: six>=1.5 in /Users/thaonp_laptop/anaconda3/lib/python3.10/site-packages (from python-dateutil>=2.7->matplotlib) (1.16.0)\r\n"
     ]
    }
   ],
   "source": [
    "!python3 -m pip install matplotlib"
   ]
  },
  {
   "cell_type": "code",
   "execution_count": 4,
   "id": "0cbddfae",
   "metadata": {
    "collapsed": true
   },
   "outputs": [
    {
     "name": "stdout",
     "output_type": "stream",
     "text": [
      "Collecting webdriver-manager\n",
      "  Downloading webdriver_manager-4.0.1-py2.py3-none-any.whl (27 kB)\n",
      "Collecting python-dotenv\n",
      "  Downloading python_dotenv-1.0.0-py3-none-any.whl (19 kB)\n",
      "Requirement already satisfied: packaging in /Users/thaonp_laptop/anaconda3/lib/python3.10/site-packages (from webdriver-manager) (23.2)\n",
      "Requirement already satisfied: requests in /Users/thaonp_laptop/anaconda3/lib/python3.10/site-packages (from webdriver-manager) (2.28.1)\n",
      "Requirement already satisfied: urllib3<1.27,>=1.21.1 in /Users/thaonp_laptop/anaconda3/lib/python3.10/site-packages (from requests->webdriver-manager) (1.26.14)\n",
      "Requirement already satisfied: idna<4,>=2.5 in /Users/thaonp_laptop/anaconda3/lib/python3.10/site-packages (from requests->webdriver-manager) (3.4)\n",
      "Requirement already satisfied: certifi>=2017.4.17 in /Users/thaonp_laptop/anaconda3/lib/python3.10/site-packages (from requests->webdriver-manager) (2022.12.7)\n",
      "Requirement already satisfied: charset-normalizer<3,>=2 in /Users/thaonp_laptop/anaconda3/lib/python3.10/site-packages (from requests->webdriver-manager) (2.0.4)\n",
      "Installing collected packages: python-dotenv, webdriver-manager\n",
      "Successfully installed python-dotenv-1.0.0 webdriver-manager-4.0.1\n"
     ]
    }
   ],
   "source": [
    "!pip install webdriver-manager"
   ]
  },
  {
   "cell_type": "code",
   "execution_count": 1,
   "id": "02feae94",
   "metadata": {},
   "outputs": [],
   "source": [
    "import pandas as pd\n",
    "import numpy as np \n",
    "import matplotlib.pyplot as plt"
   ]
  },
  {
   "cell_type": "code",
   "execution_count": 13,
   "id": "12b4c7c9",
   "metadata": {},
   "outputs": [],
   "source": [
    "from selenium import webdriver\n",
    "from selenium.webdriver.chrome.service import Service as ChromeService\n",
    "from webdriver_manager.chrome import ChromeDriverManager"
   ]
  },
  {
   "cell_type": "code",
   "execution_count": 15,
   "id": "8f110378",
   "metadata": {},
   "outputs": [],
   "source": [
    "from selenium.webdriver.chrome.options import Options\n",
    "from selenium.webdriver.common.by import By"
   ]
  },
  {
   "cell_type": "code",
   "execution_count": 11,
   "id": "a1c8432d",
   "metadata": {},
   "outputs": [
    {
     "name": "stdout",
     "output_type": "stream",
     "text": [
      "4.15.2\n"
     ]
    }
   ],
   "source": [
    "import selenium\n",
    "print(selenium.__version__)"
   ]
  },
  {
   "cell_type": "markdown",
   "id": "5275a83f",
   "metadata": {},
   "source": [
    "### Define webdriver"
   ]
  },
  {
   "cell_type": "code",
   "execution_count": 18,
   "id": "4f0bc1f5",
   "metadata": {},
   "outputs": [],
   "source": [
    "service=ChromeService(ChromeDriverManager().install())"
   ]
  },
  {
   "cell_type": "code",
   "execution_count": 20,
   "id": "a638a1cc",
   "metadata": {},
   "outputs": [],
   "source": [
    "driver = webdriver.Chrome(service=service)"
   ]
  },
  {
   "cell_type": "markdown",
   "id": "f49c9894",
   "metadata": {},
   "source": [
    "### Start crawling"
   ]
  },
  {
   "cell_type": "code",
   "execution_count": 21,
   "id": "09cb29b5",
   "metadata": {},
   "outputs": [],
   "source": [
    "link = 'https://s.cafef.vn/bao-cao-tai-chinh/vnm/incsta/2023/3/0/0/ket-qua-hoat-dong-kinh-doanh-cong-ty-co-phan-sua-viet-nam.chn'"
   ]
  },
  {
   "cell_type": "code",
   "execution_count": 23,
   "id": "ab6ff127",
   "metadata": {},
   "outputs": [],
   "source": [
    "driver.get(link)\n",
    "driver.implicitly_wait(5)"
   ]
  },
  {
   "cell_type": "code",
   "execution_count": 57,
   "id": "d54f43df",
   "metadata": {},
   "outputs": [
    {
     "data": {
      "text/plain": [
       "['//*[@id=\"tblGridData\"]/tbody/tr/td[2]',\n",
       " '//*[@id=\"tblGridData\"]/tbody/tr/td[3]',\n",
       " '//*[@id=\"tblGridData\"]/tbody/tr/td[4]',\n",
       " '//*[@id=\"tblGridData\"]/tbody/tr/td[5]']"
      ]
     },
     "execution_count": 57,
     "metadata": {},
     "output_type": "execute_result"
    }
   ],
   "source": [
    "xpath_quarters = []\n",
    "for i in range(2,6):\n",
    "    xpath_quarters.append(f'//*[@id=\"tblGridData\"]/tbody/tr/td[{i}]')\n",
    "xpath_quarters"
   ]
  },
  {
   "cell_type": "code",
   "execution_count": 59,
   "id": "b43a6b81",
   "metadata": {},
   "outputs": [],
   "source": [
    "cols = []\n",
    "for xpath in xpath_quarters:\n",
    "    elem = driver.find_element(By.XPATH, xpath)\n",
    "    cols.append(elem.text)\n"
   ]
  },
  {
   "cell_type": "code",
   "execution_count": 40,
   "id": "3fad23d8",
   "metadata": {},
   "outputs": [],
   "source": [
    "xpath_table = '//*[@id=\"tableContent\"]/tbody'\n",
    "\n",
    "elem_table = driver.find_element(By.XPATH, xpath_table)\n",
    "rows = elem_table.find_elements(By.TAG_NAME,'tr')"
   ]
  },
  {
   "cell_type": "code",
   "execution_count": 56,
   "id": "a2205daf",
   "metadata": {},
   "outputs": [
    {
     "name": "stdout",
     "output_type": "stream",
     "text": [
      "[['1. Doanh thu bán hàng và cung cấp dịch vụ', '15,080,733,191,774', '13,954,019,633,882', '29,166,959,042,756', '15,681,494,654,705', '', '', '', '', '', '', '', ''], ['2. Các khoản giảm trừ doanh thu', '12,078,534,321', '35,627,707,242', '53,742,160,423', '44,506,970,023', '', '', '', '', '', '', '', ''], ['3. Doanh thu thuần về bán hàng và cung cấp dịch vụ (10 = 01 - 02)', '15,068,654,657,453', '13,918,391,926,640', '29,113,216,882,333', '15,636,987,684,682', '', '', '', '', '', '', '', ''], ['4. Giá vốn hàng bán', '9,223,066,245,408', '8,520,365,614,981', '17,564,998,501,788', '9,082,087,041,307', '', '', '', '', '', '', '', ''], ['5. Lợi nhuận gộp về bán hàng và cung cấp dịch vụ(20=10-11)', '5,845,588,412,045', '5,398,026,311,659', '11,548,218,380,545', '6,554,900,643,375', '', '', '', '', '', '', '', ''], ['6. Doanh thu hoạt động tài chính', '379,190,751,224', '419,705,072,231', '803,669,017,004', '483,829,853,834', '', '', '', '', '', '', '', ''], ['7. Chi phí tài chính', '207,242,758,610', '158,240,818,929', '274,198,508,718', '110,138,422,955', '', '', '', '', '', '', '', ''], ['- Trong đó: Chi phí lãi vay', '53,226,546,796', '82,291,916,805', '178,262,554,562', '79,600,679,532', '', '', '', '', '', '', '', ''], ['8. Phần lãi lỗ trong công ty liên doanh, liên kết', '-4,556,583,050', '-13,760,236,004', '-24,961,240,582', '-27,632,597,830', '', '', '', '', '', '', '', ''], ['9. Chi phí bán hàng', '3,335,004,548,411', '2,942,150,310,906', '6,141,888,683,682', '3,382,491,600,883', '', '', '', '', '', '', '', ''], ['10. Chi phí quản lý doanh nghiệp', '448,926,418,471', '388,784,710,409', '819,299,258,185', '432,197,136,598', '', '', '', '', '', '', '', ''], ['11. Lợi nhuận thuần từ hoạt động kinh doanh{30=20+(21-22) + 24 - (25+26)}', '2,229,048,854,727', '2,314,795,307,642', '5,091,539,706,382', '3,086,270,738,943', '', '', '', '', '', '', '', ''], ['12. Thu nhập khác', '148,365,579,501', '41,111,331,702', '74,631,712,185', '37,955,648,630', '', '', '', '', '', '', '', ''], ['13. Chi phí khác', '82,172,192,394', '43,860,213,391', '126,126,448,611', '48,436,566,422', '', '', '', '', '', '', '', ''], ['14. Lợi nhuận khác(40=31-32)', '66,193,387,107', '-2,748,881,689', '-51,494,736,426', '-10,480,917,792', '', '', '', '', '', '', '', ''], ['15. Tổng lợi nhuận kế toán trước thuế(50=30+40)', '2,295,242,241,834', '2,312,046,425,953', '5,040,044,969,956', '3,075,789,821,151', '', '', '', '', '', '', '', ''], ['16. Chi phí thuế TNDN hiện hành', '469,246,818,237', '377,888,254,570', '872,795,739,611', '548,401,617,475', '', '', '', '', '', '', '', ''], ['17. Chi phí thuế TNDN hoãn lại', '-43,126,134,573', '27,931,772,305', '31,864,941,508', '-5,876,182,583', '', '', '', '', '', '', '', ''], ['18. Lợi nhuận sau thuế thu nhập doanh nghiệp(60=50-51-52)', '1,869,121,558,170', '1,906,226,399,078', '4,135,384,288,837', '2,533,264,386,259', '', '', '', '', '', '', '', ''], ['19. Lợi nhuận sau thuế công ty mẹ', '1,869,125,571,613', '1,856,733,257,236', '4,055,544,441,797', '2,492,254,015,001', '', '', '', '', '', '', '', ''], ['20. Lợi nhuận sau thuế công ty mẹ không kiểm soát', '-4,013,443', '49,493,141,842', '79,839,847,040', '41,010,371,258', '', '', '', '', '', '', '', ''], ['21. Lãi cơ bản trên cổ phiếu(*)', '797', '796', '1,731', '1,066', '', '', '', '', '', '', '', ''], ['22. Lãi suy giảm trên cổ phiếu (*)', '', '', '', '', '', '', '', '', '', '', '', '']]\n"
     ]
    }
   ],
   "source": [
    "datas = [] \n",
    "\n",
    "for row in rows:\n",
    "    data_row = []\n",
    "    # Get all data in each row \n",
    "    element_row = row.find_elements(By.TAG_NAME,'td')\n",
    "    # loop over element_row and get data of each cell\n",
    "    if (len(element_row) == 0 ) or (element_row[0].text == ''):\n",
    "        continue \n",
    "        \n",
    "    for elem_cell in element_row:\n",
    "        data_row.append(elem_cell.text)\n",
    "    datas.append(data_row)\n",
    "print(datas)    "
   ]
  },
  {
   "cell_type": "code",
   "execution_count": 64,
   "id": "019210fc",
   "metadata": {},
   "outputs": [
    {
     "data": {
      "text/plain": [
       "[['1. Doanh thu bán hàng và cung cấp dịch vụ',\n",
       "  '15,080,733,191,774',\n",
       "  '13,954,019,633,882',\n",
       "  '29,166,959,042,756',\n",
       "  '15,681,494,654,705'],\n",
       " ['2. Các khoản giảm trừ doanh thu',\n",
       "  '12,078,534,321',\n",
       "  '35,627,707,242',\n",
       "  '53,742,160,423',\n",
       "  '44,506,970,023'],\n",
       " ['3. Doanh thu thuần về bán hàng và cung cấp dịch vụ (10 = 01 - 02)',\n",
       "  '15,068,654,657,453',\n",
       "  '13,918,391,926,640',\n",
       "  '29,113,216,882,333',\n",
       "  '15,636,987,684,682'],\n",
       " ['4. Giá vốn hàng bán',\n",
       "  '9,223,066,245,408',\n",
       "  '8,520,365,614,981',\n",
       "  '17,564,998,501,788',\n",
       "  '9,082,087,041,307'],\n",
       " ['5. Lợi nhuận gộp về bán hàng và cung cấp dịch vụ(20=10-11)',\n",
       "  '5,845,588,412,045',\n",
       "  '5,398,026,311,659',\n",
       "  '11,548,218,380,545',\n",
       "  '6,554,900,643,375'],\n",
       " ['6. Doanh thu hoạt động tài chính',\n",
       "  '379,190,751,224',\n",
       "  '419,705,072,231',\n",
       "  '803,669,017,004',\n",
       "  '483,829,853,834'],\n",
       " ['7. Chi phí tài chính',\n",
       "  '207,242,758,610',\n",
       "  '158,240,818,929',\n",
       "  '274,198,508,718',\n",
       "  '110,138,422,955'],\n",
       " ['- Trong đó: Chi phí lãi vay',\n",
       "  '53,226,546,796',\n",
       "  '82,291,916,805',\n",
       "  '178,262,554,562',\n",
       "  '79,600,679,532'],\n",
       " ['8. Phần lãi lỗ trong công ty liên doanh, liên kết',\n",
       "  '-4,556,583,050',\n",
       "  '-13,760,236,004',\n",
       "  '-24,961,240,582',\n",
       "  '-27,632,597,830'],\n",
       " ['9. Chi phí bán hàng',\n",
       "  '3,335,004,548,411',\n",
       "  '2,942,150,310,906',\n",
       "  '6,141,888,683,682',\n",
       "  '3,382,491,600,883'],\n",
       " ['10. Chi phí quản lý doanh nghiệp',\n",
       "  '448,926,418,471',\n",
       "  '388,784,710,409',\n",
       "  '819,299,258,185',\n",
       "  '432,197,136,598'],\n",
       " ['11. Lợi nhuận thuần từ hoạt động kinh doanh{30=20+(21-22) + 24 - (25+26)}',\n",
       "  '2,229,048,854,727',\n",
       "  '2,314,795,307,642',\n",
       "  '5,091,539,706,382',\n",
       "  '3,086,270,738,943'],\n",
       " ['12. Thu nhập khác',\n",
       "  '148,365,579,501',\n",
       "  '41,111,331,702',\n",
       "  '74,631,712,185',\n",
       "  '37,955,648,630'],\n",
       " ['13. Chi phí khác',\n",
       "  '82,172,192,394',\n",
       "  '43,860,213,391',\n",
       "  '126,126,448,611',\n",
       "  '48,436,566,422'],\n",
       " ['14. Lợi nhuận khác(40=31-32)',\n",
       "  '66,193,387,107',\n",
       "  '-2,748,881,689',\n",
       "  '-51,494,736,426',\n",
       "  '-10,480,917,792'],\n",
       " ['15. Tổng lợi nhuận kế toán trước thuế(50=30+40)',\n",
       "  '2,295,242,241,834',\n",
       "  '2,312,046,425,953',\n",
       "  '5,040,044,969,956',\n",
       "  '3,075,789,821,151'],\n",
       " ['16. Chi phí thuế TNDN hiện hành',\n",
       "  '469,246,818,237',\n",
       "  '377,888,254,570',\n",
       "  '872,795,739,611',\n",
       "  '548,401,617,475'],\n",
       " ['17. Chi phí thuế TNDN hoãn lại',\n",
       "  '-43,126,134,573',\n",
       "  '27,931,772,305',\n",
       "  '31,864,941,508',\n",
       "  '-5,876,182,583'],\n",
       " ['18. Lợi nhuận sau thuế thu nhập doanh nghiệp(60=50-51-52)',\n",
       "  '1,869,121,558,170',\n",
       "  '1,906,226,399,078',\n",
       "  '4,135,384,288,837',\n",
       "  '2,533,264,386,259'],\n",
       " ['19. Lợi nhuận sau thuế công ty mẹ',\n",
       "  '1,869,125,571,613',\n",
       "  '1,856,733,257,236',\n",
       "  '4,055,544,441,797',\n",
       "  '2,492,254,015,001'],\n",
       " ['20. Lợi nhuận sau thuế công ty mẹ không kiểm soát',\n",
       "  '-4,013,443',\n",
       "  '49,493,141,842',\n",
       "  '79,839,847,040',\n",
       "  '41,010,371,258'],\n",
       " ['21. Lãi cơ bản trên cổ phiếu(*)', '797', '796', '1,731', '1,066'],\n",
       " ['22. Lãi suy giảm trên cổ phiếu (*)', '', '', '', '']]"
      ]
     },
     "execution_count": 64,
     "metadata": {},
     "output_type": "execute_result"
    }
   ],
   "source": [
    "data_final = [row[0:5] for row in datas]\n",
    "data_final"
   ]
  },
  {
   "cell_type": "code",
   "execution_count": 44,
   "id": "6c88fbe7",
   "metadata": {},
   "outputs": [
    {
     "name": "stdout",
     "output_type": "stream",
     "text": [
      "1. Doanh thu bán hàng và cung cấp dịch vụ\n"
     ]
    }
   ],
   "source": [
    "element_rows = rows[0].find_elements(By.TAG_NAME,'td')\n",
    "print(element_rows[0].text)"
   ]
  },
  {
   "cell_type": "code",
   "execution_count": 62,
   "id": "952c6c5e",
   "metadata": {},
   "outputs": [],
   "source": [
    "cols_final = ['Index' ] + cols\n",
    "df = pd.DataFrame(data=data_final, columns=cols_final)"
   ]
  },
  {
   "cell_type": "code",
   "execution_count": 63,
   "id": "27b830ac",
   "metadata": {},
   "outputs": [
    {
     "data": {
      "text/html": [
       "<div>\n",
       "<style scoped>\n",
       "    .dataframe tbody tr th:only-of-type {\n",
       "        vertical-align: middle;\n",
       "    }\n",
       "\n",
       "    .dataframe tbody tr th {\n",
       "        vertical-align: top;\n",
       "    }\n",
       "\n",
       "    .dataframe thead th {\n",
       "        text-align: right;\n",
       "    }\n",
       "</style>\n",
       "<table border=\"1\" class=\"dataframe\">\n",
       "  <thead>\n",
       "    <tr style=\"text-align: right;\">\n",
       "      <th></th>\n",
       "      <th>Index</th>\n",
       "      <th>Quý 4- 2022</th>\n",
       "      <th>Quý 1- 2023</th>\n",
       "      <th>Quý 2- 2023</th>\n",
       "      <th>Quý 3- 2023</th>\n",
       "    </tr>\n",
       "  </thead>\n",
       "  <tbody>\n",
       "    <tr>\n",
       "      <th>0</th>\n",
       "      <td>1. Doanh thu bán hàng và cung cấp dịch vụ</td>\n",
       "      <td>15,080,733,191,774</td>\n",
       "      <td>13,954,019,633,882</td>\n",
       "      <td>29,166,959,042,756</td>\n",
       "      <td>15,681,494,654,705</td>\n",
       "    </tr>\n",
       "    <tr>\n",
       "      <th>1</th>\n",
       "      <td>2. Các khoản giảm trừ doanh thu</td>\n",
       "      <td>12,078,534,321</td>\n",
       "      <td>35,627,707,242</td>\n",
       "      <td>53,742,160,423</td>\n",
       "      <td>44,506,970,023</td>\n",
       "    </tr>\n",
       "    <tr>\n",
       "      <th>2</th>\n",
       "      <td>3. Doanh thu thuần về bán hàng và cung cấp dịc...</td>\n",
       "      <td>15,068,654,657,453</td>\n",
       "      <td>13,918,391,926,640</td>\n",
       "      <td>29,113,216,882,333</td>\n",
       "      <td>15,636,987,684,682</td>\n",
       "    </tr>\n",
       "    <tr>\n",
       "      <th>3</th>\n",
       "      <td>4. Giá vốn hàng bán</td>\n",
       "      <td>9,223,066,245,408</td>\n",
       "      <td>8,520,365,614,981</td>\n",
       "      <td>17,564,998,501,788</td>\n",
       "      <td>9,082,087,041,307</td>\n",
       "    </tr>\n",
       "    <tr>\n",
       "      <th>4</th>\n",
       "      <td>5. Lợi nhuận gộp về bán hàng và cung cấp dịch ...</td>\n",
       "      <td>5,845,588,412,045</td>\n",
       "      <td>5,398,026,311,659</td>\n",
       "      <td>11,548,218,380,545</td>\n",
       "      <td>6,554,900,643,375</td>\n",
       "    </tr>\n",
       "    <tr>\n",
       "      <th>5</th>\n",
       "      <td>6. Doanh thu hoạt động tài chính</td>\n",
       "      <td>379,190,751,224</td>\n",
       "      <td>419,705,072,231</td>\n",
       "      <td>803,669,017,004</td>\n",
       "      <td>483,829,853,834</td>\n",
       "    </tr>\n",
       "    <tr>\n",
       "      <th>6</th>\n",
       "      <td>7. Chi phí tài chính</td>\n",
       "      <td>207,242,758,610</td>\n",
       "      <td>158,240,818,929</td>\n",
       "      <td>274,198,508,718</td>\n",
       "      <td>110,138,422,955</td>\n",
       "    </tr>\n",
       "    <tr>\n",
       "      <th>7</th>\n",
       "      <td>- Trong đó: Chi phí lãi vay</td>\n",
       "      <td>53,226,546,796</td>\n",
       "      <td>82,291,916,805</td>\n",
       "      <td>178,262,554,562</td>\n",
       "      <td>79,600,679,532</td>\n",
       "    </tr>\n",
       "    <tr>\n",
       "      <th>8</th>\n",
       "      <td>8. Phần lãi lỗ trong công ty liên doanh, liên kết</td>\n",
       "      <td>-4,556,583,050</td>\n",
       "      <td>-13,760,236,004</td>\n",
       "      <td>-24,961,240,582</td>\n",
       "      <td>-27,632,597,830</td>\n",
       "    </tr>\n",
       "    <tr>\n",
       "      <th>9</th>\n",
       "      <td>9. Chi phí bán hàng</td>\n",
       "      <td>3,335,004,548,411</td>\n",
       "      <td>2,942,150,310,906</td>\n",
       "      <td>6,141,888,683,682</td>\n",
       "      <td>3,382,491,600,883</td>\n",
       "    </tr>\n",
       "    <tr>\n",
       "      <th>10</th>\n",
       "      <td>10. Chi phí quản lý doanh nghiệp</td>\n",
       "      <td>448,926,418,471</td>\n",
       "      <td>388,784,710,409</td>\n",
       "      <td>819,299,258,185</td>\n",
       "      <td>432,197,136,598</td>\n",
       "    </tr>\n",
       "    <tr>\n",
       "      <th>11</th>\n",
       "      <td>11. Lợi nhuận thuần từ hoạt động kinh doanh{30...</td>\n",
       "      <td>2,229,048,854,727</td>\n",
       "      <td>2,314,795,307,642</td>\n",
       "      <td>5,091,539,706,382</td>\n",
       "      <td>3,086,270,738,943</td>\n",
       "    </tr>\n",
       "    <tr>\n",
       "      <th>12</th>\n",
       "      <td>12. Thu nhập khác</td>\n",
       "      <td>148,365,579,501</td>\n",
       "      <td>41,111,331,702</td>\n",
       "      <td>74,631,712,185</td>\n",
       "      <td>37,955,648,630</td>\n",
       "    </tr>\n",
       "    <tr>\n",
       "      <th>13</th>\n",
       "      <td>13. Chi phí khác</td>\n",
       "      <td>82,172,192,394</td>\n",
       "      <td>43,860,213,391</td>\n",
       "      <td>126,126,448,611</td>\n",
       "      <td>48,436,566,422</td>\n",
       "    </tr>\n",
       "    <tr>\n",
       "      <th>14</th>\n",
       "      <td>14. Lợi nhuận khác(40=31-32)</td>\n",
       "      <td>66,193,387,107</td>\n",
       "      <td>-2,748,881,689</td>\n",
       "      <td>-51,494,736,426</td>\n",
       "      <td>-10,480,917,792</td>\n",
       "    </tr>\n",
       "    <tr>\n",
       "      <th>15</th>\n",
       "      <td>15. Tổng lợi nhuận kế toán trước thuế(50=30+40)</td>\n",
       "      <td>2,295,242,241,834</td>\n",
       "      <td>2,312,046,425,953</td>\n",
       "      <td>5,040,044,969,956</td>\n",
       "      <td>3,075,789,821,151</td>\n",
       "    </tr>\n",
       "    <tr>\n",
       "      <th>16</th>\n",
       "      <td>16. Chi phí thuế TNDN hiện hành</td>\n",
       "      <td>469,246,818,237</td>\n",
       "      <td>377,888,254,570</td>\n",
       "      <td>872,795,739,611</td>\n",
       "      <td>548,401,617,475</td>\n",
       "    </tr>\n",
       "    <tr>\n",
       "      <th>17</th>\n",
       "      <td>17. Chi phí thuế TNDN hoãn lại</td>\n",
       "      <td>-43,126,134,573</td>\n",
       "      <td>27,931,772,305</td>\n",
       "      <td>31,864,941,508</td>\n",
       "      <td>-5,876,182,583</td>\n",
       "    </tr>\n",
       "    <tr>\n",
       "      <th>18</th>\n",
       "      <td>18. Lợi nhuận sau thuế thu nhập doanh nghiệp(6...</td>\n",
       "      <td>1,869,121,558,170</td>\n",
       "      <td>1,906,226,399,078</td>\n",
       "      <td>4,135,384,288,837</td>\n",
       "      <td>2,533,264,386,259</td>\n",
       "    </tr>\n",
       "    <tr>\n",
       "      <th>19</th>\n",
       "      <td>19. Lợi nhuận sau thuế công ty mẹ</td>\n",
       "      <td>1,869,125,571,613</td>\n",
       "      <td>1,856,733,257,236</td>\n",
       "      <td>4,055,544,441,797</td>\n",
       "      <td>2,492,254,015,001</td>\n",
       "    </tr>\n",
       "    <tr>\n",
       "      <th>20</th>\n",
       "      <td>20. Lợi nhuận sau thuế công ty mẹ không kiểm soát</td>\n",
       "      <td>-4,013,443</td>\n",
       "      <td>49,493,141,842</td>\n",
       "      <td>79,839,847,040</td>\n",
       "      <td>41,010,371,258</td>\n",
       "    </tr>\n",
       "    <tr>\n",
       "      <th>21</th>\n",
       "      <td>21. Lãi cơ bản trên cổ phiếu(*)</td>\n",
       "      <td>797</td>\n",
       "      <td>796</td>\n",
       "      <td>1,731</td>\n",
       "      <td>1,066</td>\n",
       "    </tr>\n",
       "    <tr>\n",
       "      <th>22</th>\n",
       "      <td>22. Lãi suy giảm trên cổ phiếu (*)</td>\n",
       "      <td></td>\n",
       "      <td></td>\n",
       "      <td></td>\n",
       "      <td></td>\n",
       "    </tr>\n",
       "  </tbody>\n",
       "</table>\n",
       "</div>"
      ],
      "text/plain": [
       "                                                Index         Quý 4- 2022  \\\n",
       "0           1. Doanh thu bán hàng và cung cấp dịch vụ  15,080,733,191,774   \n",
       "1                     2. Các khoản giảm trừ doanh thu      12,078,534,321   \n",
       "2   3. Doanh thu thuần về bán hàng và cung cấp dịc...  15,068,654,657,453   \n",
       "3                                 4. Giá vốn hàng bán   9,223,066,245,408   \n",
       "4   5. Lợi nhuận gộp về bán hàng và cung cấp dịch ...   5,845,588,412,045   \n",
       "5                    6. Doanh thu hoạt động tài chính     379,190,751,224   \n",
       "6                                7. Chi phí tài chính     207,242,758,610   \n",
       "7                         - Trong đó: Chi phí lãi vay      53,226,546,796   \n",
       "8   8. Phần lãi lỗ trong công ty liên doanh, liên kết      -4,556,583,050   \n",
       "9                                 9. Chi phí bán hàng   3,335,004,548,411   \n",
       "10                   10. Chi phí quản lý doanh nghiệp     448,926,418,471   \n",
       "11  11. Lợi nhuận thuần từ hoạt động kinh doanh{30...   2,229,048,854,727   \n",
       "12                                  12. Thu nhập khác     148,365,579,501   \n",
       "13                                   13. Chi phí khác      82,172,192,394   \n",
       "14                       14. Lợi nhuận khác(40=31-32)      66,193,387,107   \n",
       "15    15. Tổng lợi nhuận kế toán trước thuế(50=30+40)   2,295,242,241,834   \n",
       "16                    16. Chi phí thuế TNDN hiện hành     469,246,818,237   \n",
       "17                     17. Chi phí thuế TNDN hoãn lại     -43,126,134,573   \n",
       "18  18. Lợi nhuận sau thuế thu nhập doanh nghiệp(6...   1,869,121,558,170   \n",
       "19                  19. Lợi nhuận sau thuế công ty mẹ   1,869,125,571,613   \n",
       "20  20. Lợi nhuận sau thuế công ty mẹ không kiểm soát          -4,013,443   \n",
       "21                    21. Lãi cơ bản trên cổ phiếu(*)                 797   \n",
       "22                 22. Lãi suy giảm trên cổ phiếu (*)                       \n",
       "\n",
       "           Quý 1- 2023         Quý 2- 2023         Quý 3- 2023  \n",
       "0   13,954,019,633,882  29,166,959,042,756  15,681,494,654,705  \n",
       "1       35,627,707,242      53,742,160,423      44,506,970,023  \n",
       "2   13,918,391,926,640  29,113,216,882,333  15,636,987,684,682  \n",
       "3    8,520,365,614,981  17,564,998,501,788   9,082,087,041,307  \n",
       "4    5,398,026,311,659  11,548,218,380,545   6,554,900,643,375  \n",
       "5      419,705,072,231     803,669,017,004     483,829,853,834  \n",
       "6      158,240,818,929     274,198,508,718     110,138,422,955  \n",
       "7       82,291,916,805     178,262,554,562      79,600,679,532  \n",
       "8      -13,760,236,004     -24,961,240,582     -27,632,597,830  \n",
       "9    2,942,150,310,906   6,141,888,683,682   3,382,491,600,883  \n",
       "10     388,784,710,409     819,299,258,185     432,197,136,598  \n",
       "11   2,314,795,307,642   5,091,539,706,382   3,086,270,738,943  \n",
       "12      41,111,331,702      74,631,712,185      37,955,648,630  \n",
       "13      43,860,213,391     126,126,448,611      48,436,566,422  \n",
       "14      -2,748,881,689     -51,494,736,426     -10,480,917,792  \n",
       "15   2,312,046,425,953   5,040,044,969,956   3,075,789,821,151  \n",
       "16     377,888,254,570     872,795,739,611     548,401,617,475  \n",
       "17      27,931,772,305      31,864,941,508      -5,876,182,583  \n",
       "18   1,906,226,399,078   4,135,384,288,837   2,533,264,386,259  \n",
       "19   1,856,733,257,236   4,055,544,441,797   2,492,254,015,001  \n",
       "20      49,493,141,842      79,839,847,040      41,010,371,258  \n",
       "21                 796               1,731               1,066  \n",
       "22                                                              "
      ]
     },
     "execution_count": 63,
     "metadata": {},
     "output_type": "execute_result"
    }
   ],
   "source": [
    "df"
   ]
  },
  {
   "cell_type": "code",
   "execution_count": null,
   "id": "1243e208",
   "metadata": {},
   "outputs": [],
   "source": []
  }
 ],
 "metadata": {
  "kernelspec": {
   "display_name": "Python 3 (ipykernel)",
   "language": "python",
   "name": "python3"
  },
  "language_info": {
   "codemirror_mode": {
    "name": "ipython",
    "version": 3
   },
   "file_extension": ".py",
   "mimetype": "text/x-python",
   "name": "python",
   "nbconvert_exporter": "python",
   "pygments_lexer": "ipython3",
   "version": "3.10.9"
  }
 },
 "nbformat": 4,
 "nbformat_minor": 5
}
